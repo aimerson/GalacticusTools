{
 "cells": [
  {
   "cell_type": "markdown",
   "metadata": {},
   "source": [
    "# Tutorial to read a Galacticus HDF5 file."
   ]
  },
  {
   "cell_type": "code",
   "execution_count": 1,
   "metadata": {
    "collapsed": true
   },
   "outputs": [],
   "source": [
    "import numpy as np\n",
    "\n",
    "# Load GalacticusHDF5 class for reading/writing of Galacticus HDF5 files.\n",
    "from galacticus.io import GalacticusHDF5"
   ]
  },
  {
   "cell_type": "code",
   "execution_count": 2,
   "metadata": {
    "collapsed": false
   },
   "outputs": [],
   "source": [
    "# Load Galacticus HDF5 file\n",
    "ifile = \"../galacticus/data/exampleRuns/galacticus.snapshotExample.hdf5\"\n",
    "GH5 = GalacticusHDF5(ifile,'r')"
   ]
  },
  {
   "cell_type": "code",
   "execution_count": 3,
   "metadata": {
    "collapsed": false
   },
   "outputs": [
    {
     "name": "stdout",
     "output_type": "stream",
     "text": [
      "1 Output1 z = 2.0\n",
      "2 Output2 z = 1.0\n",
      "3 Output3 z = 0.0\n"
     ]
    }
   ],
   "source": [
    "# The Galacticus HDF5 class has an attribute \"outputs\" that stores the information for the snapshots in this file.\n",
    "for i in range(len(GH5.outputs.z)):\n",
    "    print(str(GH5.outputs.iout[i])+\" \"+GH5.outputs.name[i]+\" z = \"+str(GH5.outputs.z[i]))"
   ]
  },
  {
   "cell_type": "code",
   "execution_count": 4,
   "metadata": {
    "collapsed": false
   },
   "outputs": [
    {
     "name": "stdout",
     "output_type": "stream",
     "text": [
      "['Build', 'Filters', 'Outputs', 'Parameters', 'Version', 'globalHistory', 'metaData']\n",
      "['Output1', 'Output2', 'Output3']\n",
      "['nodeData']\n"
     ]
    }
   ],
   "source": [
    "# These outputs are sub-directories in the HDF5 file where the galaxy data is stored. In each output the galaxy \n",
    "# data is stored in a sub-directory 'nodeData'.\n",
    "print GH5.lsGroups(\"/\")\n",
    "print GH5.lsGroups(\"/Outputs\")\n",
    "print GH5.lsGroups(\"/Outputs/Output1\")"
   ]
  },
  {
   "cell_type": "code",
   "execution_count": 5,
   "metadata": {
    "collapsed": false
   },
   "outputs": [
    {
     "name": "stdout",
     "output_type": "stream",
     "text": [
      "Snapshot with nearest redshift is Output2 with z = 1.0\n"
     ]
    }
   ],
   "source": [
    "# For any redshift we can identify the snapshot output that is closest in redshift. For example, for a redshift \n",
    "# z = 1.3 we can find the redshift of the nearest snapshot to be:\n",
    "z = 1.3\n",
    "zsnap = GH5.nearestRedshift(z)\n",
    "outputName = GH5.nearestOutputName(z)\n",
    "print(\"Snapshot with nearest redshift is \"+outputName+\" with z = \"+str(zsnap))"
   ]
  },
  {
   "cell_type": "code",
   "execution_count": 6,
   "metadata": {
    "collapsed": false
   },
   "outputs": [
    {
     "name": "stdout",
     "output_type": "stream",
     "text": [
      "/Outputs/Output2\n"
     ]
    }
   ],
   "source": [
    "# We can then select this snapshot output.\n",
    "output = GH5.selectOutput(z)\n",
    "print output.name"
   ]
  },
  {
   "cell_type": "code",
   "execution_count": 7,
   "metadata": {
    "collapsed": false
   },
   "outputs": [
    {
     "name": "stdout",
     "output_type": "stream",
     "text": [
      "Number of galaxies = 160\n"
     ]
    }
   ],
   "source": [
    "# We can check to see how many galaxies were output in this snapshot.\n",
    "ngals = GH5.countGalaxies(z)\n",
    "print(\"Number of galaxies = \"+str(ngals))"
   ]
  },
  {
   "cell_type": "code",
   "execution_count": 8,
   "metadata": {
    "collapsed": false
   },
   "outputs": [
    {
     "name": "stdout",
     "output_type": "stream",
     "text": [
      "Total number of galaxies = 485\n"
     ]
    }
   ],
   "source": [
    "# Or, if we do not specifiy a redshift, we can count and sum the galaxies in all of the snapshots.\n",
    "ngals = GH5.countGalaxies()\n",
    "print(\"Total number of galaxies = \"+str(ngals))"
   ]
  },
  {
   "cell_type": "code",
   "execution_count": 9,
   "metadata": {
    "collapsed": false
   },
   "outputs": [
    {
     "name": "stdout",
     "output_type": "stream",
     "text": [
      "[u'basicMass', u'basicTimeLastIsolated', u'blackHoleAccretionRate', u'blackHoleCount', u'blackHoleJetPower', u'blackHoleMass', u'blackHoleRadiativeEfficiency', u'blackHoleSpin', u'darkMatterProfileScale', u'diskAbundancesGasMetals']\n"
     ]
    }
   ],
   "source": [
    "# We can view the galaxy datasets in an output in three ways. Firstly we can do (printing only the first 10 properties):\n",
    "datasets = output[\"nodeData\"].keys()\n",
    "print datasets[:10]"
   ]
  },
  {
   "cell_type": "code",
   "execution_count": 10,
   "metadata": {
    "collapsed": false
   },
   "outputs": [
    {
     "name": "stdout",
     "output_type": "stream",
     "text": [
      "['basicMass', 'basicTimeLastIsolated', 'blackHoleAccretionRate', 'blackHoleCount', 'blackHoleJetPower', 'blackHoleMass', 'blackHoleRadiativeEfficiency', 'blackHoleSpin', 'darkMatterProfileScale', 'diskAbundancesGasMetals']\n"
     ]
    }
   ],
   "source": [
    "# Secondly we can do:\n",
    "datasets = GH5.lsDatasets(output.name+\"/nodeData\")\n",
    "print datasets[:10]"
   ]
  },
  {
   "cell_type": "code",
   "execution_count": 11,
   "metadata": {
    "collapsed": false
   },
   "outputs": [
    {
     "name": "stdout",
     "output_type": "stream",
     "text": [
      "['basicMass', 'basicTimeLastIsolated', 'blackHoleAccretionRate', 'blackHoleCount', 'blackHoleJetPower', 'blackHoleMass', 'blackHoleRadiativeEfficiency', 'blackHoleSpin', 'darkMatterProfileScale', 'diskAbundancesGasMetals']\n"
     ]
    }
   ],
   "source": [
    "# Or thirdly we can do:\n",
    "datasets = GH5.availableDatasets(z)\n",
    "print datasets[:10]"
   ]
  },
  {
   "cell_type": "code",
   "execution_count": 12,
   "metadata": {
    "collapsed": false
   },
   "outputs": [
    {
     "name": "stdout",
     "output_type": "stream",
     "text": [
      "[  4.57338452e+10   3.15216623e+10   6.13070521e+10   4.95172370e+10\n",
      "   3.30114890e+10   3.30239637e+11   4.09871892e+10   9.48560580e+10\n",
      "   3.30114890e+10   3.58090668e+10]\n"
     ]
    }
   ],
   "source": [
    "# Reading galaxy proprerties can be done by directly reading from the HDF5 output, for example:\n",
    "arr = np.array(output[\"nodeData/basicMass\"])\n",
    "print arr[:10]"
   ]
  },
  {
   "cell_type": "code",
   "execution_count": 13,
   "metadata": {
    "collapsed": false
   },
   "outputs": [
    {
     "name": "stdout",
     "output_type": "stream",
     "text": [
      "<type 'numpy.ndarray'>\n",
      "[  4.57338452e+10   3.15216623e+10   6.13070521e+10   4.95172370e+10\n",
      "   3.30114890e+10   3.30239637e+11   4.09871892e+10   9.48560580e+10\n",
      "   3.30114890e+10   3.58090668e+10]\n"
     ]
    }
   ],
   "source": [
    "# Or by using the 'readGalaxies' function, where the 'props' keyword is a list of the properties that one\n",
    "# wishes to read.\n",
    "arr = GH5.readGalaxies(z,props=['basicMass'])\n",
    "print type(arr)\n",
    "print arr[\"basicMass\"][:10]"
   ]
  },
  {
   "cell_type": "code",
   "execution_count": 14,
   "metadata": {
    "collapsed": false
   },
   "outputs": [
    {
     "name": "stdout",
     "output_type": "stream",
     "text": [
      "<type 'numpy.ndarray'>\n",
      "('basicMass', 'blackHoleCount', 'diskMassStellar', 'spheroidMassStellar')\n",
      "[  6.48920984e+08   5.65349962e+07   9.37697597e+08   3.30224188e+08\n",
      "   1.89293148e+08   8.21404327e+09   2.80909787e+08   7.98192152e+08\n",
      "   3.02719122e+08   2.13286167e+08]\n"
     ]
    }
   ],
   "source": [
    "# Using the 'readGalaxies' function, multiple properties can be read at once. Wildcards can be used to select\n",
    "# multiple properties with similar names. The data is extracted into a numpy structured array.\n",
    "arr = GH5.readGalaxies(z,props=['basicMass','blackHoleCount','*MassStellar'])\n",
    "print type(arr)\n",
    "print arr.dtype.names\n",
    "print arr['diskMassStellar'][:10]"
   ]
  },
  {
   "cell_type": "code",
   "execution_count": 15,
   "metadata": {
    "collapsed": false
   },
   "outputs": [],
   "source": [
    "# The Galacticus file is then closed using:\n",
    "GH5.close()"
   ]
  },
  {
   "cell_type": "code",
   "execution_count": null,
   "metadata": {
    "collapsed": true
   },
   "outputs": [],
   "source": []
  }
 ],
 "metadata": {
  "kernelspec": {
   "display_name": "Python 2",
   "language": "python",
   "name": "python2"
  },
  "language_info": {
   "codemirror_mode": {
    "name": "ipython",
    "version": 2
   },
   "file_extension": ".py",
   "mimetype": "text/x-python",
   "name": "python",
   "nbconvert_exporter": "python",
   "pygments_lexer": "ipython2",
   "version": "2.7.11"
  }
 },
 "nbformat": 4,
 "nbformat_minor": 0
}
