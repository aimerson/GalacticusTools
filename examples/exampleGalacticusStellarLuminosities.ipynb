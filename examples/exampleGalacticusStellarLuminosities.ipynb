{
 "cells": [
  {
   "cell_type": "markdown",
   "metadata": {},
   "source": [
    "## Tutorial for processing stellar luminosities from Galacticus HDF5 output."
   ]
  },
  {
   "cell_type": "code",
   "execution_count": 1,
   "metadata": {
    "collapsed": true
   },
   "outputs": [],
   "source": [
    "import numpy as np\n",
    "\n",
    "# Load GalacticusHDF5 class for reading/writing of Galacticus HDF5 files.\n",
    "from galacticus.io import GalacticusHDF5\n",
    "# Load StellarLuminosities class for computing/extracting stellar luminosity datasets from HDF5 file\n",
    "from galacticus.StellarLuminosities import StellarLuminosities"
   ]
  },
  {
   "cell_type": "code",
   "execution_count": 2,
   "metadata": {
    "collapsed": true
   },
   "outputs": [],
   "source": [
    "# Load Galacticus HDF5 file\n",
    "ifile = \"../galacticus/data/exampleRuns/galacticus.snapshotExample.hdf5\"\n",
    "GH5 = GalacticusHDF5(ifile,'r')"
   ]
  },
  {
   "cell_type": "code",
   "execution_count": 3,
   "metadata": {
    "collapsed": false
   },
   "outputs": [
    {
     "name": "stdout",
     "output_type": "stream",
     "text": [
      "1 Output1 z = 2.0\n",
      "2 Output2 z = 1.0\n",
      "3 Output3 z = 0.0\n"
     ]
    }
   ],
   "source": [
    "# Print available redshifts\n",
    "for i in range(len(GH5.outputs.z)):\n",
    "    print(str(GH5.outputs.iout[i])+\" \"+GH5.outputs.name[i]+\" z = \"+str(GH5.outputs.z[i]))"
   ]
  },
  {
   "cell_type": "code",
   "execution_count": 4,
   "metadata": {
    "collapsed": true
   },
   "outputs": [],
   "source": [
    "# Pass Galacticus HDF5 class to Stellar Luminosities class\n",
    "STELLAR = StellarLuminosities(GH5)"
   ]
  },
  {
   "cell_type": "code",
   "execution_count": 5,
   "metadata": {
    "collapsed": false
   },
   "outputs": [
    {
     "name": "stdout",
     "output_type": "stream",
     "text": [
      "['diskLuminositiesStellar:HeliumContinuum:observed:z1.0000', 'diskLuminositiesStellar:HeliumContinuum:observed:z1.0000:recent', 'diskLuminositiesStellar:HeliumContinuum:rest:z1.0000', 'diskLuminositiesStellar:HeliumContinuum:rest:z1.0000:recent', 'diskLuminositiesStellar:Lyc:observed:z1.0000', 'diskLuminositiesStellar:Lyc:observed:z1.0000:recent', 'diskLuminositiesStellar:Lyc:rest:z1.0000', 'diskLuminositiesStellar:Lyc:rest:z1.0000:recent', 'diskLuminositiesStellar:OxygenContinuum:observed:z1.0000', 'diskLuminositiesStellar:OxygenContinuum:observed:z1.0000:recent']\n"
     ]
    }
   ],
   "source": [
    "# List all stellar luminosities available at z = 1.4 and print top 10.\n",
    "z = 1.4\n",
    "availableLuminosities = STELLAR.availableLuminosities(z)\n",
    "print(availableLuminosities[:10])"
   ]
  },
  {
   "cell_type": "markdown",
   "metadata": {},
   "source": [
    "The stellar luminosities datasets have the following nomenclature:\n",
    "\n",
    "    <component>LuminositiesStellar:<filterName>:<frame>:z<redshift>(:recent)(:dust<dustOptions>)\n",
    "where:\n",
    "\n",
    "    <component> = the component of the galaxy ('disk', 'spheroid' or 'total')\n",
    "    <filterName> = the name of the filter used to compute this luminosity (e.g. SDSS r-band)\n",
    "    <frame> = the frame of the luminosity ('rest' or 'observed')\n",
    "    <redshift> = the redshift of the snapshot output in which this galaxy is found (e.g 1.4000). Note that for lightcones this may be different to the redshift of the galaxy in the lightcone.\n",
    "    <dustOptions> = if the luminosity has attenuated by interstellar this will consist of a string of commands describing the dust method that has been applied.\n",
    "\n",
    "\n",
    "If *:recent* is present, the luminosity will correspond to star formation that has occured in the last **X** Gyrs."
   ]
  },
  {
   "cell_type": "code",
   "execution_count": 6,
   "metadata": {
    "collapsed": false,
    "scrolled": true
   },
   "outputs": [
    {
     "name": "stdout",
     "output_type": "stream",
     "text": [
      "Reading diskLuminositiesStellar:HeliumContinuum:observed:z1.0000...\n",
      "[ 268.61919176    7.76074644   63.85530689   26.96135918    9.1361605\n",
      "   95.438968     27.47942891   38.36634648    6.77485493   34.27606443]\n"
     ]
    }
   ],
   "source": [
    "# We can extract existing luminosities using the readGalaxies function in the GalacticusHDF5 class. For example:\n",
    "luminosityName = availableLuminosities[0]\n",
    "print(\"Reading \"+luminosityName+\"...\")\n",
    "lum = GH5.readGalaxies(z,props=[luminosityName])\n",
    "print(lum[luminosityName][:10]) # Printing top 10 only"
   ]
  },
  {
   "cell_type": "code",
   "execution_count": 7,
   "metadata": {
    "collapsed": false
   },
   "outputs": [
    {
     "name": "stdout",
     "output_type": "stream",
     "text": [
      "[ 268.61919176    7.76074644   63.85530689   26.96135918    9.1361605\n",
      "   95.438968     27.47942891   38.36634648    6.77485493   34.27606443]\n"
     ]
    }
   ],
   "source": [
    "# Or we can use the getLuminosity function in the StellarLuminosities class:\n",
    "arr = STELLAR.getLuminosity(luminosityName)\n",
    "print(arr[:10])"
   ]
  },
  {
   "cell_type": "code",
   "execution_count": 8,
   "metadata": {
    "collapsed": false
   },
   "outputs": [
    {
     "name": "stdout",
     "output_type": "stream",
     "text": [
      "Disk luminosity name = diskLuminositiesStellar:HeliumContinuum:observed:z1.0000\n",
      "Bulge luminosity name = spheroidLuminositiesStellar:HeliumContinuum:observed:z1.0000\n",
      "Total luminosity name = totalLuminositiesStellar:HeliumContinuum:observed:z1.0000\n"
     ]
    }
   ],
   "source": [
    "# In a raw Galacticus HDf5 file luminosities are stored seperately for the disk and bule of a galaxy. However, we\n",
    "# we can use the getLuminosity function to compute the total luminosity for the entire galaxy. This function simply\n",
    "# sums the luminosites for the two components. Here are what the names look like for the different components:\n",
    "print(\"Disk luminosity name = \"+luminosityName)\n",
    "sphereName = luminosityName.replace(\"disk\",\"spheroid\")\n",
    "print(\"Bulge luminosity name = \"+sphereName)\n",
    "totalName = luminosityName.replace(\"disk\",\"total\")\n",
    "print(\"Total luminosity name = \"+totalName)"
   ]
  },
  {
   "cell_type": "code",
   "execution_count": 9,
   "metadata": {
    "collapsed": false
   },
   "outputs": [
    {
     "name": "stdout",
     "output_type": "stream",
     "text": [
      "[ 268.61919176    7.90182634   63.85530689   26.96135918    9.1361605\n",
      "  101.00718134   27.47942891   38.36634648    6.77485493   34.27606443]\n"
     ]
    }
   ],
   "source": [
    "# WE can comute the total luminosity using the getLuminosity function:\n",
    "totalLum = STELLAR.getLuminosity(totalName)\n",
    "print totalLum[:10]"
   ]
  },
  {
   "cell_type": "code",
   "execution_count": 10,
   "metadata": {
    "collapsed": false
   },
   "outputs": [
    {
     "name": "stdout",
     "output_type": "stream",
     "text": [
      "[ 268.61919176    7.90182634   63.85530689   26.96135918    9.1361605\n",
      "  101.00718134   27.47942891   38.36634648    6.77485493   34.27606443]\n"
     ]
    }
   ],
   "source": [
    "# Which is the same as adding the disk and bulge components manually:\n",
    "diskLum = STELLAR.getLuminosity(luminosityName)\n",
    "sphereLum = STELLAR.getLuminosity(sphereName)\n",
    "lum = diskLum + sphereLum\n",
    "print(lum[:10])"
   ]
  },
  {
   "cell_type": "code",
   "execution_count": 11,
   "metadata": {
    "collapsed": false
   },
   "outputs": [
    {
     "name": "stdout",
     "output_type": "stream",
     "text": [
      "[  2.30910773e+15   6.79257807e+13   5.48913806e+14   2.31765581e+14\n",
      "   7.85363798e+13   8.68279225e+14   2.36219018e+14   3.29805279e+14\n",
      "   5.82380946e+13   2.94644344e+14]\n"
     ]
    }
   ],
   "source": [
    "# The luminsoities are stored in units of AB luminosities, such that we can directly conver them to AB \n",
    "# (or Vega) magnitudes. We can convert the luminosities to solar luminosities:\n",
    "from galacticus.constants import luminosityAB,luminositySolar\n",
    "print(lum[:10]*luminositySolar/luminosityAB)"
   ]
  },
  {
   "cell_type": "code",
   "execution_count": 12,
   "metadata": {
    "collapsed": true
   },
   "outputs": [],
   "source": [
    "GH5.close()"
   ]
  },
  {
   "cell_type": "code",
   "execution_count": null,
   "metadata": {
    "collapsed": true
   },
   "outputs": [],
   "source": []
  }
 ],
 "metadata": {
  "kernelspec": {
   "display_name": "Python 2",
   "language": "python",
   "name": "python2"
  },
  "language_info": {
   "codemirror_mode": {
    "name": "ipython",
    "version": 2
   },
   "file_extension": ".py",
   "mimetype": "text/x-python",
   "name": "python",
   "nbconvert_exporter": "python",
   "pygments_lexer": "ipython2",
   "version": "2.7.11"
  }
 },
 "nbformat": 4,
 "nbformat_minor": 0
}
