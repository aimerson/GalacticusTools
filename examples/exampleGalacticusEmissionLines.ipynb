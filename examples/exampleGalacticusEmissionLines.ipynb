{
 "cells": [
  {
   "cell_type": "markdown",
   "metadata": {},
   "source": [
    "# Tutorial for computing and reading emission lines."
   ]
  },
  {
   "cell_type": "code",
   "execution_count": 1,
   "metadata": {
    "collapsed": true
   },
   "outputs": [],
   "source": [
    "import numpy as np"
   ]
  },
  {
   "cell_type": "code",
   "execution_count": 2,
   "metadata": {
    "collapsed": false
   },
   "outputs": [],
   "source": [
    "# Load GalacticusHDF5 class for reading/writing of Galacticus HDF5 files.\n",
    "from galacticus.io import GalacticusHDF5\n",
    "# Load emission line class to read/compute emission line luminosities. Pass Galacticus HDF5 object to emission\n",
    "# line class.\n",
    "from galacticus.EmissionLines import GalacticusEmissionLine"
   ]
  },
  {
   "cell_type": "code",
   "execution_count": 3,
   "metadata": {
    "collapsed": true
   },
   "outputs": [],
   "source": [
    "# Load Galacticus HDF5 file\n",
    "ifile = \"/Users/amerson/Data/Galacticus_Out/v0.9.4/wfirstSED_singleTree_lightcone/galacticus.hdf5\"\n",
    "GH5 = GalacticusHDF5(ifile,'r')"
   ]
  },
  {
   "cell_type": "code",
   "execution_count": 4,
   "metadata": {
    "collapsed": false
   },
   "outputs": [
    {
     "name": "stdout",
     "output_type": "stream",
     "text": [
      "1 Output1 z = 2.0\n",
      "2 Output2 z = 1.8\n",
      "3 Output3 z = 1.6\n",
      "4 Output4 z = 1.4\n",
      "5 Output5 z = 1.2\n",
      "6 Output6 z = 1.0\n"
     ]
    }
   ],
   "source": [
    "# Print available redshifts\n",
    "for i in range(len(GH5.outputs.z)):\n",
    "    print(str(GH5.outputs.iout[i])+\" \"+GH5.outputs.name[i]+\" z = \"+str(GH5.outputs.z[i]))"
   ]
  },
  {
   "cell_type": "code",
   "execution_count": 5,
   "metadata": {
    "collapsed": true
   },
   "outputs": [],
   "source": [
    "# Pass Galacticus HDF5 class onject to emission lines object.\n",
    "EMLINE = GalacticusEmissionLine(GH5)"
   ]
  },
  {
   "cell_type": "code",
   "execution_count": 6,
   "metadata": {
    "collapsed": false
   },
   "outputs": [
    {
     "name": "stdout",
     "output_type": "stream",
     "text": [
      "balmerAlpha6563, rest wave. = 6566.81779348 Ang.\n",
      "balmerBeta4861, rest wave. = 4864.28871684 Ang.\n",
      "nitrogenII6548, rest wave. = 6551.95401396 Ang.\n",
      "nitrogenII6584, rest wave. = 6587.97873113 Ang.\n",
      "oxygenII3726, rest wave. = 3728.24052116 Ang.\n",
      "oxygenII3729, rest wave. = 3731.24602252 Ang.\n",
      "oxygenIII4959, rest wave. = 4961.99273106 Ang.\n",
      "oxygenIII5007, rest wave. = 5010.00436409 Ang.\n",
      "sulfurII6716, rest wave. = 6720.04321935 Ang.\n",
      "sulfurII6731, rest wave. = 6735.03356571 Ang.\n"
     ]
    }
   ],
   "source": [
    "# Print list of emission lines that could be computed and rest wavelength from CLOUDY assigned to each line.\n",
    "linesAvailable = EMLINE.getLineNames()\n",
    "for line in linesAvailable:\n",
    "    print(line+\", rest wave. = \"+str(EMLINE.getWavelength(line))+\" Ang.\")"
   ]
  },
  {
   "cell_type": "code",
   "execution_count": 7,
   "metadata": {
    "collapsed": false
   },
   "outputs": [
    {
     "name": "stdout",
     "output_type": "stream",
     "text": [
      "diskLineLuminosity:balmerAlpha6563:rest:z1.4000\n"
     ]
    }
   ],
   "source": [
    "# In a raw Galacticus HDF5 output no emission line luminosities are available, so they need to be computed. We \n",
    "# can comute them using the getLineLuminosity function in the GalacticusEmissionLine class. We have to start by\n",
    "# building the name of the emission line luminosity dataset.\n",
    "z = 1.4\n",
    "zString = GH5.getRedshiftString(z)\n",
    "luminosityName = \"diskLineLuminosity:balmerAlpha6563:rest:\"+zString\n",
    "print(luminosityName)"
   ]
  },
  {
   "cell_type": "markdown",
   "metadata": {},
   "source": [
    "The emission line luminosities datasets have the following nomenclature:\n",
    "\n",
    "    <component>LineLuminosity:<lineName>:<frame>(:<filterName>):z<redshift>(:dust<dustOptions>)\n",
    "where:\n",
    "\n",
    "    <component> = the component of the galaxy ('disk', 'spheroid' or 'total')\n",
    "    <lineName> = the name of the emission line to compute the luminosity for.\n",
    "    <filterName> = if specified, the luminosity will correspond to the emission line luminosity underneath the\n",
    "                specified filter (e.g. SDSS r-band), otherwise the luminosity will be the luminsoity one would \n",
    "                measure from the line itself.\n",
    "    <frame> = the frame of the luminosity ('rest' or 'observed')\n",
    "    <redshift> = the redshift of the snapshot output in which this galaxy is found (e.g 1.4000). Note that for\n",
    "                lightcones this may be different to the redshift of the galaxy in the lightcone.\n",
    "    <dustOptions> = if the luminosity has attenuated by interstellar this will consist of a string of commands\n",
    "                describing the dust method that has been applied."
   ]
  },
  {
   "cell_type": "code",
   "execution_count": 11,
   "metadata": {
    "collapsed": false
   },
   "outputs": [],
   "source": [
    "# First we will check that we can compute this emission line. Computing the line luminosity depends on \n",
    "# whether the Galacticus HDF5 file contains luminosities for the Lyman, Helium and Oxygen continuua.\n",
    "assert(EMLINE.ionizingContinuuaAvailable(luminosityName))"
   ]
  },
  {
   "cell_type": "code",
   "execution_count": 9,
   "metadata": {
    "collapsed": false
   },
   "outputs": [
    {
     "name": "stdout",
     "output_type": "stream",
     "text": [
      "[ 294305.24019514  294305.24019514   67652.97317594   67652.97317594\n",
      "   26886.76584619   26886.76584619    8377.24153291    8377.24153291\n",
      "   11782.21428853   11782.21428853]\n"
     ]
    }
   ],
   "source": [
    "# Compute the emission line luminosity and print top 10 values\n",
    "lum = EMLINE.getLineLuminosity(luminosityName)\n",
    "print(lum[:10])"
   ]
  },
  {
   "cell_type": "code",
   "execution_count": 10,
   "metadata": {
    "collapsed": false
   },
   "outputs": [
    {
     "name": "stdout",
     "output_type": "stream",
     "text": [
      "[ 294305.24019514  294305.24019514   67652.97317594   67652.97317594\n",
      "   26886.76584619   26886.76584619    8377.24153291    8377.24153291\n",
      "   11782.21428853   11782.21428853]\n",
      "[ 294305.24019514  294305.24019514   67652.97317594   67652.97317594\n",
      "   26886.76584619   26886.76584619    8377.24153291    8377.24153291\n",
      "   11782.21428853   11782.21428853]\n"
     ]
    }
   ],
   "source": [
    "# We can compute the line luminosity for the entire galaxy using the getLineLuminosity function. The total\n",
    "# line luminosity is simply equal to the sum of the line luminosities for the disk and bulge.\n",
    "diskName = \"diskLineLuminosity:balmerAlpha6563:rest:\"+zString\n",
    "sphereName = \"spheroidLineLuminosity:balmerAlpha6563:rest:\"+zString\n",
    "totalName = \"totalLineLuminosity:balmerAlpha6563:rest:\"+zString\n",
    "lum = EMLINE.getLineLuminosity(totalName)\n",
    "print(lum[:10])\n",
    "lum = EMLINE.getLineLuminosity(diskName) + EMLINE.getLineLuminosity(sphereName) \n",
    "print(lum[:10])"
   ]
  },
  {
   "cell_type": "code",
   "execution_count": 12,
   "metadata": {
    "collapsed": true
   },
   "outputs": [],
   "source": [
    "GH5.close()"
   ]
  },
  {
   "cell_type": "code",
   "execution_count": null,
   "metadata": {
    "collapsed": true
   },
   "outputs": [],
   "source": []
  }
 ],
 "metadata": {
  "kernelspec": {
   "display_name": "Python 2",
   "language": "python",
   "name": "python2"
  },
  "language_info": {
   "codemirror_mode": {
    "name": "ipython",
    "version": 2
   },
   "file_extension": ".py",
   "mimetype": "text/x-python",
   "name": "python",
   "nbconvert_exporter": "python",
   "pygments_lexer": "ipython2",
   "version": "2.7.11"
  }
 },
 "nbformat": 4,
 "nbformat_minor": 0
}
